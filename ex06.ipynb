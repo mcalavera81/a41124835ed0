{
 "cells": [
  {
   "cell_type": "markdown",
   "metadata": {},
   "source": [
    "# Exercise 06: store annotated text as JSON files"
   ]
  },
  {
   "cell_type": "markdown",
   "metadata": {},
   "source": [
    "Much of the preceding NLP code has been worked into a small library, and we'll call functions from that library to help keep these notebooks more readable. Take a look at the source code in `pynlp.py`, and an example usage:"
   ]
  },
  {
   "cell_type": "code",
   "execution_count": 1,
   "metadata": {},
   "outputs": [],
   "source": [
    "import pynlp\n",
    "\n",
    "html_file = \"html/article1.html\"\n",
    "json_file = \"a1.json\"\n",
    "\n",
    "pynlp.full_parse(html_file, json_file)"
   ]
  },
  {
   "cell_type": "markdown",
   "metadata": {},
   "source": [
    "That extracts text from HTML in the first article, then stores the parsed and annotated text as JSON, one line per sentence. Let's look at the first two sentences:"
   ]
  },
  {
   "cell_type": "code",
   "execution_count": 2,
   "metadata": {},
   "outputs": [
    {
     "data": {
      "text/plain": [
       "['::::::::::::::',\n",
       " 'a1.json',\n",
       " '::::::::::::::',\n",
       " '[[\"Almost\", \"almost\", \"RB\"], [\"a\", \"a\", \"DT\"], [\"year\", \"year\", \"NN\"], [\"ago\", \"ago\", \"RB\"], [\",\", \",\", \".\"], [\"we\", \"we\", \"PRP\"], [\"published\", \"publish\", \"VBD\"], [\"our\", \"our\", \"PRP$\"], [\"now\", \"now\", \"RB\"], [\"-\", \"-\", \".\"], [\"annual\", \"annual\", \"JJ\"], [\"landscape\", \"landscape\", \"NN\"], [\"of\", \"of\", \"IN\"], [\"machine\", \"machine\", \"NN\"], [\"intelligence\", \"intelligence\", \"NN\"], [\"companies\", \"company\", \"NNS\"], [\",\", \",\", \".\"], [\"and\", \"and\", \"CC\"], [\"goodness\", \"goodness\", \"NN\"], [\"have\", \"have\", \"VBP\"], [\"we\", \"we\", \"PRP\"], [\"seen\", \"see\", \"VBN\"], [\"a\", \"a\", \"DT\"], [\"lot\", \"lot\", \"NN\"], [\"of\", \"of\", \"IN\"], [\"activity\", \"activity\", \"NN\"], [\"since\", \"since\", \"IN\"], [\"then\", \"then\", \"RB\"], [\".\", \".\", \".\"]]',\n",
       " '[[\"This\", \"this\", \"DT\"], [\"year\", \"year\", \"NN\"], [\"\\'s\", \"\\'s\", \"POS\"], [\"landscape\", \"landscape\", \"NN\"], [\"has\", \"have\", \"VBZ\"], [\"a\", \"a\", \"DT\"], [\"third\", \"third\", \"RB\"], [\"more\", \"more\", \"JJR\"], [\"companies\", \"company\", \"NNS\"], [\"than\", \"than\", \"IN\"], [\"our\", \"our\", \"PRP$\"], [\"first\", \"first\", \"JJ\"], [\"one\", \"one\", \"CD\"], [\"did\", \"do\", \"VBD\"], [\"two\", \"two\", \"CD\"], [\"years\", \"year\", \"NNS\"], [\"ago\", \"ago\", \"RB\"], [\",\", \",\", \".\"], [\"and\", \"and\", \"CC\"], [\"it\", \"it\", \"PRP\"], [\"feels\", \"feel\", \"VBZ\"], [\"even\", \"even\", \"RB\"], [\"more\", \"more\", \"RBR\"], [\"futile\", \"futile\", \"JJ\"], [\"to\", \"to\", \"TO\"], [\"try\", \"try\", \"VB\"], [\"to\", \"to\", \"TO\"], [\"be\", \"be\", \"VB\"], [\"comprehensive\", \"comprehensive\", \"JJ\"], [\",\", \",\", \".\"], [\"since\", \"since\", \"IN\"], [\"this\", \"this\", \"DT\"], [\"just\", \"just\", \"RB\"], [\"scratches\", \"scratch\", \"VBZ\"], [\"the\", \"the\", \"DT\"], [\"surface\", \"surface\", \"NN\"], [\"of\", \"of\", \"IN\"], [\"all\", \"all\", \"DT\"], [\"of\", \"of\", \"IN\"], [\"the\", \"the\", \"DT\"], [\"activity\", \"activity\", \"NN\"], [\"out\", \"out\", \"RB\"], [\"there\", \"there\", \"RB\"], [\".\", \".\", \".\"]]',\n",
       " '[[\"As\", \"as\", \"IN\"], [\"has\", \"have\", \"VBZ\"], [\"been\", \"be\", \"VBN\"], [\"the\", \"the\", \"DT\"], [\"case\", \"case\", \"NN\"], [\"for\", \"for\", \"IN\"], [\"the\", \"the\", \"DT\"], [\"last\", \"last\", \"JJ\"], [\"couple\", \"couple\", \"NN\"], [\"of\", \"of\", \"IN\"], [\"years\", \"year\", \"NNS\"], [\",\", \",\", \".\"], [\"our\", \"our\", \"PRP$\"], [\"fund\", \"fund\", \"NN\"], [\"still\", \"still\", \"RB\"], [\"obsesses\", \"obsess\", \"VBZ\"], [\"over\", \"over\", \"IN\"], [\"\\\\\"\", \"\\\\\"\", \".\"], [\"problem\", \"problem\", \"NN\"], [\"first\", \"first\", \"JJ\"], [\"\\\\\"\", \"\\\\\"\", \".\"], [\"machine\", \"machine\", \"NN\"], [\"intelligence\", \"intelligence\", \"NN\"], [\"--\", \"--\", \".\"], [\"we\", \"we\", \"PRP\"], [\"\\'ve\", \"have\", \"VB\"], [\"invested\", \"invest\", \"VBN\"], [\"in\", \"in\", \"IN\"], [\"35\", \"35\", \"CD\"], [\"machine\", \"machine\", \"NN\"], [\"intelligence\", \"intelligence\", \"NN\"], [\"companies\", \"company\", \"NNS\"], [\"solving\", \"solve\", \"VBG\"], [\"35\", \"35\", \"CD\"], [\"meaningful\", \"meaningful\", \"JJ\"], [\"problems\", \"problem\", \"NNS\"], [\"in\", \"in\", \"IN\"], [\"areas\", \"area\", \"NNS\"], [\"from\", \"from\", \"IN\"], [\"security\", \"security\", \"NN\"], [\"to\", \"to\", \"IN\"], [\"recruiting\", \"recruit\", \"VBG\"], [\"to\", \"to\", \"IN\"], [\"software\", \"software\", \"NN\"], [\"development\", \"development\", \"NN\"], [\".\", \".\", \".\"]]',\n",
       " '[[\"(\", \"(\", \".\"], [\"Our\", \"our\", \"PRP$\"], [\"fund\", \"fund\", \"NN\"], [\"focuses\", \"focus\", \"VBZ\"], [\"on\", \"on\", \"IN\"], [\"the\", \"the\", \"DT\"], [\"future\", \"future\", \"NN\"], [\"of\", \"of\", \"IN\"], [\"work\", \"work\", \"NN\"], [\",\", \",\", \".\"], [\"so\", \"so\", \"RB\"], [\"there\", \"there\", \"EX\"], [\"are\", \"be\", \"VBP\"], [\"some\", \"some\", \"DT\"], [\"machine\", \"machine\", \"NN\"], [\"intelligence\", \"intelligence\", \"NN\"], [\"domains\", \"domain\", \"NNS\"], [\"where\", \"where\", \"WRB\"], [\"we\", \"we\", \"PRP\"], [\"invest\", \"invest\", \"VBP\"], [\"more\", \"more\", \"JJR\"], [\"than\", \"than\", \"IN\"], [\"others\", \"other\", \"NNS\"], [\".\", \".\", \".\"], [\")\", \")\", \".\"]]',\n",
       " '[[\"At\", \"at\", \"IN\"], [\"the\", \"the\", \"DT\"], [\"same\", \"same\", \"JJ\"], [\"time\", \"time\", \"NN\"], [\",\", \",\", \".\"], [\"the\", \"the\", \"DT\"], [\"hype\", \"hype\", \"NN\"], [\"around\", \"around\", \"IN\"], [\"machine\", \"machine\", \"NN\"], [\"intelligence\", \"intelligence\", \"NN\"], [\"methods\", \"method\", \"NNS\"], [\"continues\", \"continue\", \"VBZ\"], [\"to\", \"to\", \"TO\"], [\"grow\", \"grow\", \"VB\"], [\":\", \":\", \".\"], [\"the\", \"the\", \"DT\"], [\"words\", \"word\", \"NNS\"], [\"\\\\\"\", \"\\\\\"\", \".\"], [\"deep\", \"deep\", \"JJ\"], [\"learning\", \"learning\", \"NN\"], [\"\\\\\"\", \"\\\\\"\", \".\"], [\"now\", \"now\", \"RB\"], [\"equally\", \"equally\", \"RB\"], [\"represent\", \"represent\", \"VBP\"], [\"a\", \"a\", \"DT\"], [\"series\", \"series\", \"NN\"], [\"of\", \"of\", \"IN\"], [\"meaningful\", \"meaningful\", \"JJ\"], [\"breakthroughs\", \"breakthrough\", \"NNS\"], [\"(\", \"(\", \".\"], [\"wonderful\", \"wonderful\", \"JJ\"], [\")\", \")\", \".\"], [\"but\", \"but\", \"CC\"], [\"also\", \"also\", \"RB\"], [\"a\", \"a\", \"DT\"], [\"hyped\", \"hype\", \"VBN\"], [\"phrase\", \"phrase\", \"NN\"], [\"like\", \"like\", \"IN\"], [\"\\\\\"\", \"\\\\\"\", \".\"], [\"big\", \"big\", \"JJ\"], [\"data\", \"datum\", \"NNS\"], [\"\\\\\"\", \"\\\\\"\", \".\"], [\"(\", \"(\", \".\"], [\"not\", \"not\", \"RB\"], [\"so\", \"so\", \"RB\"], [\"good\", \"good\", \"JJ\"], [\"!\", \"!\", \".\"], [\")\", \")\", \".\"], [\".\", \".\", \".\"]]',\n",
       " '[[\"We\", \"we\", \"PRP\"], [\"care\", \"care\", \"VBP\"], [\"about\", \"about\", \"IN\"], [\"whether\", \"whether\", \"IN\"], [\"a\", \"a\", \"DT\"], [\"founder\", \"founder\", \"NN\"], [\"uses\", \"use\", \"VBZ\"], [\"the\", \"the\", \"DT\"], [\"right\", \"right\", \"JJ\"], [\"method\", \"method\", \"NN\"], [\"to\", \"to\", \"TO\"], [\"solve\", \"solve\", \"VB\"], [\"a\", \"a\", \"DT\"], [\"problem\", \"problem\", \"NN\"], [\",\", \",\", \".\"], [\"not\", \"not\", \"RB\"], [\"the\", \"the\", \"DT\"], [\"fanciest\", \"fanciest\", \"JJS\"], [\"one\", \"one\", \"CD\"], [\".\", \".\", \".\"]]',\n",
       " '[[\"We\", \"we\", \"PRP\"], [\"favor\", \"favor\", \"VBP\"], [\"those\", \"those\", \"DT\"], [\"who\", \"who\", \"WP\"], [\"apply\", \"apply\", \"VBP\"], [\"technology\", \"technology\", \"NN\"], [\"thoughtfully\", \"thoughtfully\", \"RB\"], [\".\", \".\", \".\"]]',\n",
       " '[[\"What\", \"what\", \"WP\"], [\"\\'s\", \"be\", \"VBZ\"], [\"the\", \"the\", \"DT\"], [\"biggest\", \"biggest\", \"JJS\"], [\"change\", \"change\", \"NN\"], [\"in\", \"in\", \"IN\"], [\"the\", \"the\", \"DT\"], [\"last\", \"last\", \"JJ\"], [\"year\", \"year\", \"NN\"], [\"?\", \"?\", \".\"]]',\n",
       " '[[\"We\", \"we\", \"PRP\"], [\"are\", \"be\", \"VBP\"], [\"getting\", \"get\", \"VBG\"], [\"inbound\", \"inbound\", \"JJ\"], [\"inquiries\", \"inquiry\", \"NNS\"], [\"from\", \"from\", \"IN\"], [\"a\", \"a\", \"DT\"], [\"different\", \"different\", \"JJ\"], [\"mix\", \"mix\", \"NN\"], [\"of\", \"of\", \"IN\"], [\"people\", \"people\", \"NNS\"], [\".\", \".\", \".\"]]',\n",
       " '[[\"For\", \"for\", \"IN\"], [\"v1.0\", \"v1.0\", \"NN\"], [\",\", \",\", \".\"], [\"we\", \"we\", \"PRP\"], [\"heard\", \"hear\", \"VBD\"], [\"almost\", \"almost\", \"RB\"], [\"exclusively\", \"exclusively\", \"RB\"], [\"from\", \"from\", \"IN\"], [\"founders\", \"founder\", \"NNS\"], [\"and\", \"and\", \"CC\"], [\"academics\", \"academic\", \"NNS\"], [\".\", \".\", \".\"]]',\n",
       " '[[\"Then\", \"then\", \"RB\"], [\"came\", \"come\", \"VBD\"], [\"a\", \"a\", \"DT\"], [\"healthy\", \"healthy\", \"JJ\"], [\"mix\", \"mix\", \"NN\"], [\"of\", \"of\", \"IN\"], [\"investors\", \"investor\", \"NNS\"], [\",\", \",\", \".\"], [\"both\", \"both\", \"DT\"], [\"private\", \"private\", \"JJ\"], [\"and\", \"and\", \"CC\"], [\"public\", \"public\", \"JJ\"], [\".\", \".\", \".\"]]',\n",
       " '[[\"Now\", \"now\", \"RB\"], [\"overwhelmingly\", \"overwhelmingly\", \"RB\"], [\"we\", \"we\", \"PRP\"], [\"have\", \"have\", \"VBP\"], [\"heard\", \"hear\", \"VBN\"], [\"from\", \"from\", \"IN\"], [\"existing\", \"exist\", \"VBG\"], [\"companies\", \"company\", \"NNS\"], [\"trying\", \"try\", \"VBG\"], [\"to\", \"to\", \"TO\"], [\"figure\", \"figure\", \"VB\"], [\"out\", \"out\", \"RP\"], [\"how\", \"how\", \"WRB\"], [\"to\", \"to\", \"TO\"], [\"transform\", \"transform\", \"VB\"], [\"their\", \"their\", \"PRP$\"], [\"businesses\", \"business\", \"NNS\"], [\"using\", \"use\", \"VBG\"], [\"machine\", \"machine\", \"NN\"], [\"intelligence\", \"intelligence\", \"NN\"], [\".\", \".\", \".\"]]']"
      ]
     },
     "execution_count": 2,
     "metadata": {},
     "output_type": "execute_result"
    }
   ],
   "source": [
    "%sx more a1.json"
   ]
  },
  {
   "cell_type": "markdown",
   "metadata": {},
   "source": [
    "**Now your turn.** In the following code block, run the extract/parse/save-to-JSON for each of the example HTML files, not just the `article1.html` example:"
   ]
  },
  {
   "cell_type": "code",
   "execution_count": 3,
   "metadata": {},
   "outputs": [],
   "source": [
    "html_file = \"html/article4.html\"\n",
    "json_file = \"a4.json\"\n",
    "\n",
    "pynlp.full_parse(html_file, json_file)"
   ]
  },
  {
   "cell_type": "code",
   "execution_count": 4,
   "metadata": {},
   "outputs": [
    {
     "data": {
      "text/plain": [
       "['::::::::::::::',\n",
       " 'a4.json',\n",
       " '::::::::::::::',\n",
       " '[[\"Learning\", \"learning\", \"NNP\"], [\"is\", \"be\", \"VBZ\"], [\"n\\'t\", \"n\\'t\", \"RB\"], [\"a\", \"a\", \"DT\"], [\"one\", \"one\", \"CD\"], [\"-\", \"-\", \".\"], [\"shot\", \"shot\", \"NN\"], [\"process\", \"process\", \"NN\"], [\":\", \":\", \".\"], [\"take\", \"take\", \"VB\"], [\"the\", \"the\", \"DT\"], [\"course\", \"course\", \"NN\"], [\",\", \",\", \".\"], [\"pass\", \"pass\", \"VB\"], [\"an\", \"an\", \"DT\"], [\"exam\", \"exam\", \"NN\"], [\",\", \",\", \".\"], [\"and\", \"and\", \"CC\"], [\"get\", \"get\", \"VB\"], [\"out\", \"out\", \"RP\"], [\".\", \".\", \".\"]]',\n",
       " '[[\"You\", \"you\", \"PRP\"], [\"learn\", \"learn\", \"VBP\"], [\"by\", \"by\", \"IN\"], [\"interacting\", \"interact\", \"VBG\"], [\"with\", \"with\", \"IN\"], [\"instructors\", \"instructor\", \"NNS\"], [\"and\", \"and\", \"CC\"], [\"students\", \"student\", \"NNS\"], [\",\", \",\", \".\"], [\"by\", \"by\", \"IN\"], [\"assessing\", \"assess\", \"VBG\"], [\"your\", \"your\", \"PRP$\"], [\"progress\", \"progress\", \"NN\"], [\",\", \",\", \".\"], [\"and\", \"and\", \"CC\"], [\"using\", \"use\", \"VBG\"], [\"that\", \"that\", \"DT\"], [\"to\", \"to\", \"TO\"], [\"plan\", \"plan\", \"VB\"], [\"your\", \"your\", \"PRP$\"], [\"next\", \"next\", \"JJ\"], [\"steps\", \"step\", \"NNS\"], [\".\", \".\", \".\"]]',\n",
       " '[[\"It\", \"it\", \"PRP\"], [\"\\'s\", \"be\", \"VBZ\"], [\"an\", \"an\", \"DT\"], [\"ongoing\", \"ongoing\", \"JJ\"], [\"feedback\", \"feedback\", \"NN\"], [\"loop\", \"loop\", \"NN\"], [\"that\", \"that\", \"WDT\"], [\"involves\", \"involve\", \"VBZ\"], [\"everyone\", \"everyone\", \"NN\"], [\"in\", \"in\", \"IN\"], [\"the\", \"the\", \"DT\"], [\"classroom\", \"classroom\", \"NN\"], [\"(\", \"(\", \".\"], [\"whether\", \"whether\", \"IN\"], [\"the\", \"the\", \"DT\"], [\"classroom\", \"classroom\", \"NN\"], [\"is\", \"be\", \"VBZ\"], [\"virtual\", \"virtual\", \"JJ\"], [\"or\", \"or\", \"CC\"], [\"physical\", \"physical\", \"JJ\"], [\")\", \")\", \".\"], [\".\", \".\", \".\"]]',\n",
       " '[[\"O\\'Reilly\", \"o\\'reilly\", \"NNP\"], [\"Media\", \"media\", \"NNP\"], [\"has\", \"have\", \"VBZ\"], [\"always\", \"always\", \"RB\"], [\"been\", \"be\", \"VBN\"], [\"a\", \"a\", \"DT\"], [\"learning\", \"learn\", \"VBG\"], [\"company\", \"company\", \"NN\"], [\".\", \".\", \".\"]]',\n",
       " '[[\"When\", \"when\", \"WRB\"], [\"we\", \"we\", \"PRP\"], [\"began\", \"begin\", \"VBD\"], [\"to\", \"to\", \"TO\"], [\"publish\", \"publish\", \"VB\"], [\"books\", \"book\", \"NNS\"], [\"in\", \"in\", \"IN\"], [\"the\", \"the\", \"DT\"], [\"mid-\\'80s\", \"mid-\\'80s\", \"NN\"], [\",\", \",\", \".\"], [\"our\", \"our\", \"PRP$\"], [\"editorial\", \"editorial\", \"NN\"], [\"guidance\", \"guidance\", \"NN\"], [\"for\", \"for\", \"IN\"], [\"authors\", \"author\", \"NNS\"], [\"was\", \"be\", \"VBD\"], [\"to\", \"to\", \"TO\"], [\"write\", \"write\", \"VB\"], [\"as\", \"as\", \"IN\"], [\"if\", \"if\", \"IN\"], [\"they\", \"they\", \"PRP\"], [\"were\", \"be\", \"VBD\"], [\"a\", \"a\", \"DT\"], [\"friend\", \"friend\", \"NN\"], [\"looking\", \"look\", \"VBG\"], [\"over\", \"over\", \"IN\"], [\"the\", \"the\", \"DT\"], [\"readers\", \"reader\", \"NNS\"], [\"shoulder\", \"shoulder\", \"NN\"], [\",\", \",\", \".\"], [\"providing\", \"provide\", \"VBG\"], [\"wise\", \"wise\", \"JJ\"], [\"and\", \"and\", \"CC\"], [\"experienced\", \"experienced\", \"JJ\"], [\"advice\", \"advice\", \"NN\"], [\".\", \".\", \".\"]]',\n",
       " '[[\"In\", \"in\", \"IN\"], [\"2016\", \"2016\", \"CD\"], [\",\", \",\", \".\"], [\"we\", \"we\", \"PRP\"], [\"\\'re\", \"be\", \"VBP\"], [\"about\", \"about\", \"RB\"], [\"much\", \"much\", \"RB\"], [\"more\", \"more\", \"JJR\"], [\"than\", \"than\", \"IN\"], [\"books\", \"book\", \"NNS\"], [\".\", \".\", \".\"], [\"We\", \"we\", \"PRP\"], [\"\\'ve\", \"have\", \"VB\"], [\"long\", \"long\", \"RB\"], [\"had\", \"have\", \"VBN\"], [\"instructional\", \"instructional\", \"JJ\"], [\"video\", \"video\", \"NN\"], [\"and\", \"and\", \"CC\"], [\"conferences\", \"conference\", \"NNS\"], [\".\", \".\", \".\"]]',\n",
       " '[[\"In\", \"in\", \"IN\"], [\"the\", \"the\", \"DT\"], [\"past\", \"past\", \"JJ\"], [\"year\", \"year\", \"NN\"], [\",\", \",\", \".\"], [\"we\", \"we\", \"PRP\"], [\"\\'ve\", \"have\", \"VB\"], [\"introduced\", \"introduce\", \"VBN\"], [\"live\", \"live\", \"VB\"], [\"online\", \"online\", \"JJ\"], [\"training\", \"training\", \"NN\"], [\",\", \",\", \".\"], [\"in\", \"in\", \"IN\"], [\"addition\", \"addition\", \"NN\"], [\"to\", \"to\", \"TO\"], [\"live\", \"live\", \"VB\"], [\"in\", \"in\", \"IN\"], [\"-\", \"-\", \".\"], [\"person\", \"person\", \"NN\"], [\"training\", \"training\", \"NN\"], [\"at\", \"at\", \"IN\"], [\"conferences\", \"conference\", \"NNS\"], [\"and\", \"and\", \"CC\"], [\"other\", \"other\", \"JJ\"], [\"locations\", \"location\", \"NNS\"], [\".\", \".\", \".\"]]',\n",
       " '[[\"But\", \"but\", \"CC\"], [\"the\", \"the\", \"DT\"], [\"same\", \"same\", \"JJ\"], [\"standard\", \"standard\", \"NN\"], [\"applies\", \"apply\", \"VBZ\"], [\":\", \":\", \".\"], [\"we\", \"we\", \"PRP\"], [\"want\", \"want\", \"VBP\"], [\"the\", \"the\", \"DT\"], [\"people\", \"people\", \"NNS\"], [\"who\", \"who\", \"WP\"], [\"learn\", \"learn\", \"VBP\"], [\"with\", \"with\", \"IN\"], [\"us\", \"us\", \"PRP\"], [\"to\", \"to\", \"TO\"], [\"feel\", \"feel\", \"VB\"], [\"like\", \"like\", \"IN\"], [\"they\", \"they\", \"PRP\"], [\"have\", \"have\", \"VBP\"], [\"an\", \"an\", \"DT\"], [\"expert\", \"expert\", \"NN\"], [\"looking\", \"look\", \"VBG\"], [\"over\", \"over\", \"IN\"], [\"their\", \"their\", \"PRP$\"], [\"shoulders\", \"shoulder\", \"NNS\"], [\"and\", \"and\", \"CC\"], [\"providing\", \"provide\", \"VBG\"], [\"seasoned\", \"seasoned\", \"JJ\"], [\"advice\", \"advice\", \"NN\"], [\".\", \".\", \".\"]]',\n",
       " '[[\"How\", \"how\", \"WRB\"], [\"do\", \"do\", \"VBP\"], [\"we\", \"we\", \"PRP\"], [\"do\", \"do\", \"VB\"], [\"that\", \"that\", \"DT\"], [\"?\", \"?\", \".\"]]',\n",
       " '[[\"It\", \"it\", \"PRP\"], [\"starts\", \"start\", \"VBZ\"], [\"with\", \"with\", \"IN\"], [\"realizing\", \"realize\", \"VBG\"], [\"that\", \"that\", \"IN\"], [\"learning\", \"learning\", \"NN\"], [\"is\", \"be\", \"VBZ\"], [\"n\\'t\", \"n\\'t\", \"RB\"], [\"just\", \"just\", \"RB\"], [\"a\", \"a\", \"DT\"], [\"one\", \"one\", \"CD\"], [\"-\", \"-\", \".\"], [\"way\", \"way\", \"NN\"], [\"experience\", \"experience\", \"NN\"], [\".\", \".\", \".\"]]',\n",
       " '[[\"When\", \"when\", \"WRB\"], [\"we\", \"we\", \"PRP\"], [\"analyzed\", \"analyze\", \"VBD\"], [\"conference\", \"conference\", \"NN\"], [\"attendance\", \"attendance\", \"NN\"], [\"and\", \"and\", \"CC\"], [\"early\", \"early\", \"JJ\"], [\"online\", \"online\", \"JJ\"], [\"courses\", \"course\", \"NNS\"], [\",\", \",\", \".\"], [\"we\", \"we\", \"PRP\"], [\"saw\", \"see\", \"VBD\"], [\"that\", \"that\", \"IN\"], [\"people\", \"people\", \"NNS\"], [\"participate\", \"participate\", \"VBP\"], [\"as\", \"as\", \"IN\"], [\"groups\", \"group\", \"NNS\"], [\".\", \".\", \".\"]]',\n",
       " '[[\"More\", \"more\", \"JJR\"], [\"than\", \"than\", \"IN\"], [\"50%\", \"50%\", \"CD\"], [\"attend\", \"attend\", \"VBP\"], [\"our\", \"our\", \"PRP$\"], [\"online\", \"online\", \"JJ\"], [\"courses\", \"course\", \"NNS\"], [\"as\", \"as\", \"IN\"], [\"teams\", \"team\", \"NNS\"], [\".\", \".\", \".\"]]',\n",
       " '[[\"People\", \"people\", \"NNS\"], [\"do\", \"do\", \"VBP\"], [\"n\\'t\", \"n\\'t\", \"RB\"], [\"attend\", \"attend\", \"VB\"], [\"courses\", \"course\", \"NNS\"], [\"as\", \"as\", \"IN\"], [\"teams\", \"team\", \"NNS\"], [\"just\", \"just\", \"RB\"], [\"so\", \"so\", \"IN\"], [\"they\", \"they\", \"PRP\"], [\"can\", \"can\", \"MD\"], [\"hang\", \"hang\", \"VB\"], [\"out\", \"out\", \"RP\"], [\"together\", \"together\", \"RB\"], [\"during\", \"during\", \"IN\"], [\"breaks\", \"break\", \"NNS\"], [\";\", \";\", \".\"], [\"they\", \"they\", \"PRP\"], [\"attend\", \"attend\", \"VBP\"], [\"as\", \"as\", \"IN\"], [\"teams\", \"team\", \"NNS\"], [\"so\", \"so\", \"IN\"], [\"they\", \"they\", \"PRP\"], [\"can\", \"can\", \"MD\"], [\"learn\", \"learn\", \"VB\"], [\"from\", \"from\", \"IN\"], [\"each\", \"each\", \"DT\"], [\"other\", \"other\", \"JJ\"], [\",\", \",\", \".\"], [\"apply\", \"apply\", \"VB\"], [\"their\", \"their\", \"PRP$\"], [\"new\", \"new\", \"JJ\"], [\"knowledge\", \"knowledge\", \"NN\"], [\"to\", \"to\", \"IN\"], [\"their\", \"their\", \"PRP$\"], [\"particular\", \"particular\", \"JJ\"], [\"situation\", \"situation\", \"NN\"], [\",\", \",\", \".\"], [\"and\", \"and\", \"CC\"], [\"bring\", \"bring\", \"VB\"], [\"that\", \"that\", \"DT\"], [\"knowledge\", \"knowledge\", \"NN\"], [\"back\", \"back\", \"RB\"], [\"to\", \"to\", \"IN\"], [\"their\", \"their\", \"PRP$\"], [\"co\", \"co\", \"NN\"], [\"-\", \"-\", \".\"], [\"workers\", \"worker\", \"NNS\"], [\".\", \".\", \".\"]]',\n",
       " '[[\"When\", \"when\", \"WRB\"], [\"a\", \"a\", \"DT\"], [\"team\", \"team\", \"NN\"], [\"attends\", \"attend\", \"VBZ\"], [\"training\", \"training\", \"NN\"], [\",\", \",\", \".\"], [\"the\", \"the\", \"DT\"], [\"group\", \"group\", \"NN\"], [\"learns\", \"learn\", \"VBZ\"], [\"much\", \"much\", \"RB\"], [\"more\", \"more\", \"JJR\"], [\"than\", \"than\", \"IN\"], [\"sum\", \"sum\", \"NN\"], [\"of\", \"of\", \"IN\"], [\"the\", \"the\", \"DT\"], [\"individual\", \"individual\", \"JJ\"], [\"experiences\", \"experience\", \"NNS\"], [\".\", \".\", \".\"]]']"
      ]
     },
     "execution_count": 4,
     "metadata": {},
     "output_type": "execute_result"
    }
   ],
   "source": [
    "%sx more a4.json"
   ]
  }
 ],
 "metadata": {
  "kernelspec": {
   "display_name": "nlp-in-python3",
   "language": "python",
   "name": "nlp-in-python3"
  },
  "language_info": {
   "codemirror_mode": {
    "name": "ipython",
    "version": 3
   },
   "file_extension": ".py",
   "mimetype": "text/x-python",
   "name": "python",
   "nbconvert_exporter": "python",
   "pygments_lexer": "ipython3",
   "version": "3.6.3"
  }
 },
 "nbformat": 4,
 "nbformat_minor": 1
}
